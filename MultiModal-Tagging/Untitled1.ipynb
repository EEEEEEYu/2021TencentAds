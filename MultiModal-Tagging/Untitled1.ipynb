{
 "cells": [
  {
   "cell_type": "code",
   "execution_count": 1,
   "metadata": {},
   "outputs": [
    {
     "name": "stdout",
     "output_type": "stream",
     "text": [
      "\u001b[0m\u001b[01;34mcheckpoints\u001b[0m/\n",
      "\u001b[01;34mconfigs\u001b[0m/\n",
      "\u001b[01;34mdataset\u001b[0m/\n",
      "events.out.tfevents.1620746803.notebook-18u8zefd50-8474b45875-cmnx4\n",
      "\u001b[01;34mpretrained\u001b[0m/\n",
      "ReadMe.md\n",
      "requirement.txt\n",
      "\u001b[01;34mresults\u001b[0m/\n",
      "\u001b[01;34mscripts\u001b[0m/\n",
      "\u001b[01;34msrc\u001b[0m/\n",
      "Untitled1.ipynb\n",
      "Untitled.ipynb\n",
      "\u001b[01;34mutils\u001b[0m/\n"
     ]
    }
   ],
   "source": [
    "ls"
   ]
  },
  {
   "cell_type": "code",
   "execution_count": 2,
   "metadata": {},
   "outputs": [
    {
     "name": "stdout",
     "output_type": "stream",
     "text": [
      "\u001b[0m\u001b[01;34mtagging5k_temp\u001b[0m/  \u001b[01;34mtagging5k_test1\u001b[0m/  \u001b[01;34mtagging5k_test2\u001b[0m/\n"
     ]
    }
   ],
   "source": [
    "ls checkpoints"
   ]
  },
  {
   "cell_type": "code",
   "execution_count": 3,
   "metadata": {},
   "outputs": [
    {
     "name": "stdout",
     "output_type": "stream",
     "text": [
      "checkpoint\n",
      "config.yaml\n",
      "events.out.tfevents.1620761345.notebook-18u8zefd50-8474b45875-cmnx4\n",
      "\u001b[0m\u001b[01;34mexport\u001b[0m/\n",
      "graph.pbtxt\n",
      "model.ckpt-10000.data-00000-of-00001\n",
      "model.ckpt-10000.index\n",
      "model.ckpt-10000.meta\n",
      "model.ckpt-6000.data-00000-of-00001\n",
      "model.ckpt-6000.index\n",
      "model.ckpt-6000.meta\n",
      "model.ckpt-7000.data-00000-of-00001\n",
      "model.ckpt-7000.index\n",
      "model.ckpt-7000.meta\n",
      "model.ckpt-8000.data-00000-of-00001\n",
      "model.ckpt-8000.index\n",
      "model.ckpt-8000.meta\n",
      "model.ckpt-9000.data-00000-of-00001\n",
      "model.ckpt-9000.index\n",
      "model.ckpt-9000.meta\n"
     ]
    }
   ],
   "source": [
    "ls checkpoints/tagging5k_test2"
   ]
  },
  {
   "cell_type": "code",
   "execution_count": 4,
   "metadata": {},
   "outputs": [
    {
     "name": "stdout",
     "output_type": "stream",
     "text": [
      "\u001b[0m\u001b[01;34mstep_10000_0.7360\u001b[0m/  \u001b[01;34mstep_3000_0.7070\u001b[0m/  \u001b[01;34mstep_6000_0.7340\u001b[0m/  \u001b[01;34mstep_9000_0.7352\u001b[0m/\n",
      "\u001b[01;34mstep_1000_0.6747\u001b[0m/   \u001b[01;34mstep_4000_0.7285\u001b[0m/  \u001b[01;34mstep_7000_0.7349\u001b[0m/\n",
      "\u001b[01;34mstep_2000_0.6906\u001b[0m/   \u001b[01;34mstep_5000_0.7332\u001b[0m/  \u001b[01;34mstep_8000_0.7352\u001b[0m/\n"
     ]
    }
   ],
   "source": [
    "ls checkpoints/tagging5k_test2/export"
   ]
  },
  {
   "cell_type": "code",
   "execution_count": 5,
   "metadata": {},
   "outputs": [
    {
     "ename": "NameError",
     "evalue": "name 'ifconfig' is not defined",
     "output_type": "error",
     "traceback": [
      "\u001b[0;31m---------------------------------------------------------------------------\u001b[0m",
      "\u001b[0;31mNameError\u001b[0m                                 Traceback (most recent call last)",
      "\u001b[0;32m<ipython-input-5-b1b7a37ba48c>\u001b[0m in \u001b[0;36m<module>\u001b[0;34m\u001b[0m\n\u001b[0;32m----> 1\u001b[0;31m \u001b[0mifconfig\u001b[0m\u001b[0;34m\u001b[0m\u001b[0m\n\u001b[0m",
      "\u001b[0;31mNameError\u001b[0m: name 'ifconfig' is not defined"
     ]
    }
   ],
   "source": [
    "ifconfig"
   ]
  },
  {
   "cell_type": "code",
   "execution_count": 6,
   "metadata": {},
   "outputs": [
    {
     "name": "stdout",
     "output_type": "stream",
     "text": [
      "eth0: flags=4163<UP,BROADCAST,RUNNING,MULTICAST>  mtu 1500\n",
      "        inet 9.166.10.36  netmask 255.255.255.240  broadcast 9.166.10.47\n",
      "        ether fa:f7:d8:f3:40:e1  txqueuelen 0  (Ethernet)\n",
      "        RX packets 575515  bytes 482296640 (482.2 MB)\n",
      "        RX errors 0  dropped 0  overruns 0  frame 0\n",
      "        TX packets 282198  bytes 253202742 (253.2 MB)\n",
      "        TX errors 0  dropped 0 overruns 0  carrier 0  collisions 0\n",
      "\n",
      "lo: flags=73<UP,LOOPBACK,RUNNING>  mtu 65536\n",
      "        inet 127.0.0.1  netmask 255.0.0.0\n",
      "        loop  txqueuelen 0  (Local Loopback)\n",
      "        RX packets 109890  bytes 51126906 (51.1 MB)\n",
      "        RX errors 0  dropped 0  overruns 0  frame 0\n",
      "        TX packets 109890  bytes 51126906 (51.1 MB)\n",
      "        TX errors 0  dropped 0 overruns 0  carrier 0  collisions 0\n",
      "\n"
     ]
    }
   ],
   "source": [
    "!ifconfig"
   ]
  },
  {
   "cell_type": "code",
   "execution_count": 7,
   "metadata": {},
   "outputs": [],
   "source": [
    "cp checkpoints/tagging5k_test2/events.out.tfevents.1620761345.notebook-18u8zefd50-8474b45875-cmnx4 ./"
   ]
  },
  {
   "cell_type": "code",
   "execution_count": 8,
   "metadata": {},
   "outputs": [
    {
     "ename": "FileNotFoundError",
     "evalue": "[Errno 2] No such file or directory: './VideoStructuring/dataset/videos/train_5k_A'",
     "output_type": "error",
     "traceback": [
      "\u001b[0;31m---------------------------------------------------------------------------\u001b[0m",
      "\u001b[0;31mFileNotFoundError\u001b[0m                         Traceback (most recent call last)",
      "\u001b[0;32m<ipython-input-8-8a3cfd56d512>\u001b[0m in \u001b[0;36m<module>\u001b[0;34m\u001b[0m\n\u001b[1;32m      5\u001b[0m \u001b[0;31m# ########## get train_5k_A video file lists\u001b[0m\u001b[0;34m\u001b[0m\u001b[0;34m\u001b[0m\u001b[0m\n\u001b[1;32m      6\u001b[0m \u001b[0mvideos_train_5k_A_dir\u001b[0m \u001b[0;34m=\u001b[0m \u001b[0mos\u001b[0m\u001b[0;34m.\u001b[0m\u001b[0mpath\u001b[0m\u001b[0;34m.\u001b[0m\u001b[0mjoin\u001b[0m\u001b[0;34m(\u001b[0m\u001b[0mdataset_root\u001b[0m\u001b[0;34m,\u001b[0m \u001b[0;34m'videos/train_5k_A'\u001b[0m\u001b[0;34m)\u001b[0m\u001b[0;34m\u001b[0m\u001b[0m\n\u001b[0;32m----> 7\u001b[0;31m \u001b[0mvideos_train_5k_A_files\u001b[0m \u001b[0;34m=\u001b[0m \u001b[0;34m[\u001b[0m\u001b[0mos\u001b[0m\u001b[0;34m.\u001b[0m\u001b[0mpath\u001b[0m\u001b[0;34m.\u001b[0m\u001b[0mjoin\u001b[0m\u001b[0;34m(\u001b[0m\u001b[0mvideos_train_5k_A_dir\u001b[0m\u001b[0;34m,\u001b[0m \u001b[0mf\u001b[0m\u001b[0;34m)\u001b[0m \u001b[0;32mfor\u001b[0m \u001b[0mf\u001b[0m \u001b[0;32min\u001b[0m \u001b[0mos\u001b[0m\u001b[0;34m.\u001b[0m\u001b[0mlistdir\u001b[0m\u001b[0;34m(\u001b[0m\u001b[0mvideos_train_5k_A_dir\u001b[0m\u001b[0;34m)\u001b[0m \u001b[0;32mif\u001b[0m \u001b[0mos\u001b[0m\u001b[0;34m.\u001b[0m\u001b[0mpath\u001b[0m\u001b[0;34m.\u001b[0m\u001b[0misfile\u001b[0m\u001b[0;34m(\u001b[0m\u001b[0mos\u001b[0m\u001b[0;34m.\u001b[0m\u001b[0mpath\u001b[0m\u001b[0;34m.\u001b[0m\u001b[0mjoin\u001b[0m\u001b[0;34m(\u001b[0m\u001b[0mvideos_train_5k_A_dir\u001b[0m\u001b[0;34m,\u001b[0m \u001b[0mf\u001b[0m\u001b[0;34m)\u001b[0m\u001b[0;34m)\u001b[0m\u001b[0;34m]\u001b[0m\u001b[0;34m\u001b[0m\u001b[0m\n\u001b[0m\u001b[1;32m      8\u001b[0m \u001b[0;34m\u001b[0m\u001b[0m\n\u001b[1;32m      9\u001b[0m \u001b[0mprint\u001b[0m\u001b[0;34m(\u001b[0m\u001b[0;34m\"videos_train_5k_A_dir= {}\"\u001b[0m\u001b[0;34m.\u001b[0m\u001b[0mformat\u001b[0m\u001b[0;34m(\u001b[0m\u001b[0mvideos_train_5k_A_dir\u001b[0m\u001b[0;34m)\u001b[0m\u001b[0;34m)\u001b[0m\u001b[0;34m\u001b[0m\u001b[0m\n",
      "\u001b[0;31mFileNotFoundError\u001b[0m: [Errno 2] No such file or directory: './VideoStructuring/dataset/videos/train_5k_A'"
     ]
    }
   ],
   "source": [
    "import os\n",
    "\n",
    "dataset_root = './VideoStructuring/dataset/'\n",
    "\n",
    "# ########## get train_5k_A video file lists\n",
    "videos_train_5k_A_dir = os.path.join(dataset_root, 'videos/train_5k_A')\n",
    "videos_train_5k_A_files = [os.path.join(videos_train_5k_A_dir, f) for f in os.listdir(videos_train_5k_A_dir) if os.path.isfile(os.path.join(videos_train_5k_A_dir, f))]\n",
    "\n",
    "print(\"videos_train_5k_A_dir= {}\".format(videos_train_5k_A_dir))\n",
    "print(\"len(videos/train_5k_A)= {}\".format(len(videos_train_5k_A_files)))\n",
    "\n",
    "# ########## display\n",
    "from IPython.display import display, HTML\n",
    "\n",
    "# video\n",
    "test_video_path = videos_train_5k_A_files[3000]\n",
    "print(test_video_path)\n",
    "print(os.path.exists(test_video_path))\n",
    "html_str = '''\n",
    "<video controls width=\\\"500\\\" height=\\\"500\\\" src=\\\"{}\\\">animation</video>\n",
    "'''.format(test_video_path)\n",
    "print(html_str)\n",
    "display(HTML(html_str))"
   ]
  },
  {
   "cell_type": "code",
   "execution_count": 9,
   "metadata": {},
   "outputs": [
    {
     "ename": "FileNotFoundError",
     "evalue": "[Errno 2] No such file or directory: './VideoStructuring/dataset/videos/video_5k/train_5k_A'",
     "output_type": "error",
     "traceback": [
      "\u001b[0;31m---------------------------------------------------------------------------\u001b[0m",
      "\u001b[0;31mFileNotFoundError\u001b[0m                         Traceback (most recent call last)",
      "\u001b[0;32m<ipython-input-9-07b79da4193b>\u001b[0m in \u001b[0;36m<module>\u001b[0;34m\u001b[0m\n\u001b[1;32m      5\u001b[0m \u001b[0;31m# ########## get train_5k_A video file lists\u001b[0m\u001b[0;34m\u001b[0m\u001b[0;34m\u001b[0m\u001b[0m\n\u001b[1;32m      6\u001b[0m \u001b[0mvideos_train_5k_A_dir\u001b[0m \u001b[0;34m=\u001b[0m \u001b[0mos\u001b[0m\u001b[0;34m.\u001b[0m\u001b[0mpath\u001b[0m\u001b[0;34m.\u001b[0m\u001b[0mjoin\u001b[0m\u001b[0;34m(\u001b[0m\u001b[0mdataset_root\u001b[0m\u001b[0;34m,\u001b[0m \u001b[0;34m'videos/video_5k/train_5k_A'\u001b[0m\u001b[0;34m)\u001b[0m\u001b[0;34m\u001b[0m\u001b[0m\n\u001b[0;32m----> 7\u001b[0;31m \u001b[0mvideos_train_5k_A_files\u001b[0m \u001b[0;34m=\u001b[0m \u001b[0;34m[\u001b[0m\u001b[0mos\u001b[0m\u001b[0;34m.\u001b[0m\u001b[0mpath\u001b[0m\u001b[0;34m.\u001b[0m\u001b[0mjoin\u001b[0m\u001b[0;34m(\u001b[0m\u001b[0mvideos_train_5k_A_dir\u001b[0m\u001b[0;34m,\u001b[0m \u001b[0mf\u001b[0m\u001b[0;34m)\u001b[0m \u001b[0;32mfor\u001b[0m \u001b[0mf\u001b[0m \u001b[0;32min\u001b[0m \u001b[0mos\u001b[0m\u001b[0;34m.\u001b[0m\u001b[0mlistdir\u001b[0m\u001b[0;34m(\u001b[0m\u001b[0mvideos_train_5k_A_dir\u001b[0m\u001b[0;34m)\u001b[0m \u001b[0;32mif\u001b[0m \u001b[0mos\u001b[0m\u001b[0;34m.\u001b[0m\u001b[0mpath\u001b[0m\u001b[0;34m.\u001b[0m\u001b[0misfile\u001b[0m\u001b[0;34m(\u001b[0m\u001b[0mos\u001b[0m\u001b[0;34m.\u001b[0m\u001b[0mpath\u001b[0m\u001b[0;34m.\u001b[0m\u001b[0mjoin\u001b[0m\u001b[0;34m(\u001b[0m\u001b[0mvideos_train_5k_A_dir\u001b[0m\u001b[0;34m,\u001b[0m \u001b[0mf\u001b[0m\u001b[0;34m)\u001b[0m\u001b[0;34m)\u001b[0m\u001b[0;34m]\u001b[0m\u001b[0;34m\u001b[0m\u001b[0m\n\u001b[0m\u001b[1;32m      8\u001b[0m \u001b[0;34m\u001b[0m\u001b[0m\n\u001b[1;32m      9\u001b[0m \u001b[0mprint\u001b[0m\u001b[0;34m(\u001b[0m\u001b[0;34m\"videos_train_5k_A_dir= {}\"\u001b[0m\u001b[0;34m.\u001b[0m\u001b[0mformat\u001b[0m\u001b[0;34m(\u001b[0m\u001b[0mvideos_train_5k_A_dir\u001b[0m\u001b[0;34m)\u001b[0m\u001b[0;34m)\u001b[0m\u001b[0;34m\u001b[0m\u001b[0m\n",
      "\u001b[0;31mFileNotFoundError\u001b[0m: [Errno 2] No such file or directory: './VideoStructuring/dataset/videos/video_5k/train_5k_A'"
     ]
    }
   ],
   "source": [
    "import os\n",
    "\n",
    "dataset_root = './VideoStructuring/dataset/'\n",
    "\n",
    "# ########## get train_5k_A video file lists\n",
    "videos_train_5k_A_dir = os.path.join(dataset_root, 'videos/video_5k/train_5k_A')\n",
    "videos_train_5k_A_files = [os.path.join(videos_train_5k_A_dir, f) for f in os.listdir(videos_train_5k_A_dir) if os.path.isfile(os.path.join(videos_train_5k_A_dir, f))]\n",
    "\n",
    "print(\"videos_train_5k_A_dir= {}\".format(videos_train_5k_A_dir))\n",
    "print(\"len(videos/train_5k_A)= {}\".format(len(videos_train_5k_A_files)))\n",
    "\n",
    "# ########## display\n",
    "from IPython.display import display, HTML\n",
    "\n",
    "# video\n",
    "test_video_path = videos_train_5k_A_files[3000]\n",
    "print(test_video_path)\n",
    "print(os.path.exists(test_video_path))\n",
    "html_str = '''\n",
    "<video controls width=\\\"500\\\" height=\\\"500\\\" src=\\\"{}\\\">animation</video>\n",
    "'''.format(test_video_path)\n",
    "print(html_str)\n",
    "display(HTML(html_str))"
   ]
  },
  {
   "cell_type": "code",
   "execution_count": 10,
   "metadata": {},
   "outputs": [
    {
     "ename": "FileNotFoundError",
     "evalue": "[Errno 2] No such file or directory: './VideoStructuring/dataset/videos/train_5k'",
     "output_type": "error",
     "traceback": [
      "\u001b[0;31m---------------------------------------------------------------------------\u001b[0m",
      "\u001b[0;31mFileNotFoundError\u001b[0m                         Traceback (most recent call last)",
      "\u001b[0;32m<ipython-input-10-cc8630729a5a>\u001b[0m in \u001b[0;36m<module>\u001b[0;34m\u001b[0m\n\u001b[1;32m      5\u001b[0m \u001b[0;31m# ########## get train_5k_A video file lists\u001b[0m\u001b[0;34m\u001b[0m\u001b[0;34m\u001b[0m\u001b[0m\n\u001b[1;32m      6\u001b[0m \u001b[0mvideos_train_5k_A_dir\u001b[0m \u001b[0;34m=\u001b[0m \u001b[0mos\u001b[0m\u001b[0;34m.\u001b[0m\u001b[0mpath\u001b[0m\u001b[0;34m.\u001b[0m\u001b[0mjoin\u001b[0m\u001b[0;34m(\u001b[0m\u001b[0mdataset_root\u001b[0m\u001b[0;34m,\u001b[0m \u001b[0;34m'videos/train_5k'\u001b[0m\u001b[0;34m)\u001b[0m\u001b[0;34m\u001b[0m\u001b[0m\n\u001b[0;32m----> 7\u001b[0;31m \u001b[0mvideos_train_5k_A_files\u001b[0m \u001b[0;34m=\u001b[0m \u001b[0;34m[\u001b[0m\u001b[0mos\u001b[0m\u001b[0;34m.\u001b[0m\u001b[0mpath\u001b[0m\u001b[0;34m.\u001b[0m\u001b[0mjoin\u001b[0m\u001b[0;34m(\u001b[0m\u001b[0mvideos_train_5k_A_dir\u001b[0m\u001b[0;34m,\u001b[0m \u001b[0mf\u001b[0m\u001b[0;34m)\u001b[0m \u001b[0;32mfor\u001b[0m \u001b[0mf\u001b[0m \u001b[0;32min\u001b[0m \u001b[0mos\u001b[0m\u001b[0;34m.\u001b[0m\u001b[0mlistdir\u001b[0m\u001b[0;34m(\u001b[0m\u001b[0mvideos_train_5k_A_dir\u001b[0m\u001b[0;34m)\u001b[0m \u001b[0;32mif\u001b[0m \u001b[0mos\u001b[0m\u001b[0;34m.\u001b[0m\u001b[0mpath\u001b[0m\u001b[0;34m.\u001b[0m\u001b[0misfile\u001b[0m\u001b[0;34m(\u001b[0m\u001b[0mos\u001b[0m\u001b[0;34m.\u001b[0m\u001b[0mpath\u001b[0m\u001b[0;34m.\u001b[0m\u001b[0mjoin\u001b[0m\u001b[0;34m(\u001b[0m\u001b[0mvideos_train_5k_A_dir\u001b[0m\u001b[0;34m,\u001b[0m \u001b[0mf\u001b[0m\u001b[0;34m)\u001b[0m\u001b[0;34m)\u001b[0m\u001b[0;34m]\u001b[0m\u001b[0;34m\u001b[0m\u001b[0m\n\u001b[0m\u001b[1;32m      8\u001b[0m \u001b[0;34m\u001b[0m\u001b[0m\n\u001b[1;32m      9\u001b[0m \u001b[0mprint\u001b[0m\u001b[0;34m(\u001b[0m\u001b[0;34m\"videos_train_5k_A_dir= {}\"\u001b[0m\u001b[0;34m.\u001b[0m\u001b[0mformat\u001b[0m\u001b[0;34m(\u001b[0m\u001b[0mvideos_train_5k_A_dir\u001b[0m\u001b[0;34m)\u001b[0m\u001b[0;34m)\u001b[0m\u001b[0;34m\u001b[0m\u001b[0m\n",
      "\u001b[0;31mFileNotFoundError\u001b[0m: [Errno 2] No such file or directory: './VideoStructuring/dataset/videos/train_5k'"
     ]
    }
   ],
   "source": [
    "import os\n",
    "\n",
    "dataset_root = './VideoStructuring/dataset/'\n",
    "\n",
    "# ########## get train_5k_A video file lists\n",
    "videos_train_5k_A_dir = os.path.join(dataset_root, 'videos/train_5k')\n",
    "videos_train_5k_A_files = [os.path.join(videos_train_5k_A_dir, f) for f in os.listdir(videos_train_5k_A_dir) if os.path.isfile(os.path.join(videos_train_5k_A_dir, f))]\n",
    "\n",
    "print(\"videos_train_5k_A_dir= {}\".format(videos_train_5k_A_dir))\n",
    "print(\"len(videos/train_5k_A)= {}\".format(len(videos_train_5k_A_files)))\n",
    "\n",
    "# ########## display\n",
    "from IPython.display import display, HTML\n",
    "\n",
    "# video\n",
    "test_video_path = videos_train_5k_A_files[3000]\n",
    "print(test_video_path)\n",
    "print(os.path.exists(test_video_path))\n",
    "html_str = '''\n",
    "<video controls width=\\\"500\\\" height=\\\"500\\\" src=\\\"{}\\\">animation</video>\n",
    "'''.format(test_video_path)\n",
    "print(html_str)\n",
    "display(HTML(html_str))"
   ]
  },
  {
   "cell_type": "code",
   "execution_count": 11,
   "metadata": {},
   "outputs": [
    {
     "name": "stdout",
     "output_type": "stream",
     "text": [
      "\u001b[0m\u001b[01;34mcheckpoints\u001b[0m/\n",
      "\u001b[01;34mconfigs\u001b[0m/\n",
      "\u001b[01;34mdataset\u001b[0m/\n",
      "events.out.tfevents.1620761345.notebook-18u8zefd50-8474b45875-cmnx4\n",
      "\u001b[01;34mpretrained\u001b[0m/\n",
      "ReadMe.md\n",
      "requirement.txt\n",
      "\u001b[01;34mresults\u001b[0m/\n",
      "\u001b[01;34mscripts\u001b[0m/\n",
      "\u001b[01;34msrc\u001b[0m/\n",
      "Untitled1.ipynb\n",
      "Untitled.ipynb\n",
      "\u001b[01;34mutils\u001b[0m/\n"
     ]
    }
   ],
   "source": [
    "ls"
   ]
  },
  {
   "cell_type": "code",
   "execution_count": 12,
   "metadata": {},
   "outputs": [
    {
     "name": "stdout",
     "output_type": "stream",
     "text": [
      "/home/tione/notebook/VideoStructuring\n"
     ]
    }
   ],
   "source": [
    "cd .."
   ]
  },
  {
   "cell_type": "code",
   "execution_count": 13,
   "metadata": {},
   "outputs": [
    {
     "name": "stdout",
     "output_type": "stream",
     "text": [
      "\u001b[0m\u001b[01;36mdataset\u001b[0m@  \u001b[01;32minit.sh\u001b[0m*  \u001b[01;34mMultiModal-Tagging\u001b[0m/  README.md  \u001b[01;32mrun.sh\u001b[0m*  \u001b[01;34mSceneSeg\u001b[0m/\n"
     ]
    }
   ],
   "source": [
    "ls"
   ]
  },
  {
   "cell_type": "code",
   "execution_count": 14,
   "metadata": {},
   "outputs": [
    {
     "name": "stdout",
     "output_type": "stream",
     "text": [
      "/home/tione/notebook\n"
     ]
    }
   ],
   "source": [
    "cd .."
   ]
  },
  {
   "cell_type": "code",
   "execution_count": 15,
   "metadata": {},
   "outputs": [
    {
     "name": "stdout",
     "output_type": "stream",
     "text": [
      "\u001b[0m\u001b[01;34malgo-2021\u001b[0m/  \u001b[01;34menvs\u001b[0m/  \u001b[01;34mlost+found\u001b[0m/  \u001b[01;34mVideoStructuring\u001b[0m/\n"
     ]
    }
   ],
   "source": [
    "ls"
   ]
  },
  {
   "cell_type": "code",
   "execution_count": 16,
   "metadata": {},
   "outputs": [
    {
     "ename": "FileNotFoundError",
     "evalue": "[Errno 2] No such file or directory: './VideoStructuring/dataset/videos/train_5k_A'",
     "output_type": "error",
     "traceback": [
      "\u001b[0;31m---------------------------------------------------------------------------\u001b[0m",
      "\u001b[0;31mFileNotFoundError\u001b[0m                         Traceback (most recent call last)",
      "\u001b[0;32m<ipython-input-16-8a3cfd56d512>\u001b[0m in \u001b[0;36m<module>\u001b[0;34m\u001b[0m\n\u001b[1;32m      5\u001b[0m \u001b[0;31m# ########## get train_5k_A video file lists\u001b[0m\u001b[0;34m\u001b[0m\u001b[0;34m\u001b[0m\u001b[0m\n\u001b[1;32m      6\u001b[0m \u001b[0mvideos_train_5k_A_dir\u001b[0m \u001b[0;34m=\u001b[0m \u001b[0mos\u001b[0m\u001b[0;34m.\u001b[0m\u001b[0mpath\u001b[0m\u001b[0;34m.\u001b[0m\u001b[0mjoin\u001b[0m\u001b[0;34m(\u001b[0m\u001b[0mdataset_root\u001b[0m\u001b[0;34m,\u001b[0m \u001b[0;34m'videos/train_5k_A'\u001b[0m\u001b[0;34m)\u001b[0m\u001b[0;34m\u001b[0m\u001b[0m\n\u001b[0;32m----> 7\u001b[0;31m \u001b[0mvideos_train_5k_A_files\u001b[0m \u001b[0;34m=\u001b[0m \u001b[0;34m[\u001b[0m\u001b[0mos\u001b[0m\u001b[0;34m.\u001b[0m\u001b[0mpath\u001b[0m\u001b[0;34m.\u001b[0m\u001b[0mjoin\u001b[0m\u001b[0;34m(\u001b[0m\u001b[0mvideos_train_5k_A_dir\u001b[0m\u001b[0;34m,\u001b[0m \u001b[0mf\u001b[0m\u001b[0;34m)\u001b[0m \u001b[0;32mfor\u001b[0m \u001b[0mf\u001b[0m \u001b[0;32min\u001b[0m \u001b[0mos\u001b[0m\u001b[0;34m.\u001b[0m\u001b[0mlistdir\u001b[0m\u001b[0;34m(\u001b[0m\u001b[0mvideos_train_5k_A_dir\u001b[0m\u001b[0;34m)\u001b[0m \u001b[0;32mif\u001b[0m \u001b[0mos\u001b[0m\u001b[0;34m.\u001b[0m\u001b[0mpath\u001b[0m\u001b[0;34m.\u001b[0m\u001b[0misfile\u001b[0m\u001b[0;34m(\u001b[0m\u001b[0mos\u001b[0m\u001b[0;34m.\u001b[0m\u001b[0mpath\u001b[0m\u001b[0;34m.\u001b[0m\u001b[0mjoin\u001b[0m\u001b[0;34m(\u001b[0m\u001b[0mvideos_train_5k_A_dir\u001b[0m\u001b[0;34m,\u001b[0m \u001b[0mf\u001b[0m\u001b[0;34m)\u001b[0m\u001b[0;34m)\u001b[0m\u001b[0;34m]\u001b[0m\u001b[0;34m\u001b[0m\u001b[0m\n\u001b[0m\u001b[1;32m      8\u001b[0m \u001b[0;34m\u001b[0m\u001b[0m\n\u001b[1;32m      9\u001b[0m \u001b[0mprint\u001b[0m\u001b[0;34m(\u001b[0m\u001b[0;34m\"videos_train_5k_A_dir= {}\"\u001b[0m\u001b[0;34m.\u001b[0m\u001b[0mformat\u001b[0m\u001b[0;34m(\u001b[0m\u001b[0mvideos_train_5k_A_dir\u001b[0m\u001b[0;34m)\u001b[0m\u001b[0;34m)\u001b[0m\u001b[0;34m\u001b[0m\u001b[0m\n",
      "\u001b[0;31mFileNotFoundError\u001b[0m: [Errno 2] No such file or directory: './VideoStructuring/dataset/videos/train_5k_A'"
     ]
    }
   ],
   "source": [
    "import os\n",
    "\n",
    "dataset_root = './VideoStructuring/dataset/'\n",
    "\n",
    "# ########## get train_5k_A video file lists\n",
    "videos_train_5k_A_dir = os.path.join(dataset_root, 'videos/train_5k_A')\n",
    "videos_train_5k_A_files = [os.path.join(videos_train_5k_A_dir, f) for f in os.listdir(videos_train_5k_A_dir) if os.path.isfile(os.path.join(videos_train_5k_A_dir, f))]\n",
    "\n",
    "print(\"videos_train_5k_A_dir= {}\".format(videos_train_5k_A_dir))\n",
    "print(\"len(videos/train_5k_A)= {}\".format(len(videos_train_5k_A_files)))\n",
    "\n",
    "# ########## display\n",
    "from IPython.display import display, HTML\n",
    "\n",
    "# video\n",
    "test_video_path = videos_train_5k_A_files[3000]\n",
    "print(test_video_path)\n",
    "print(os.path.exists(test_video_path))\n",
    "html_str = '''\n",
    "<video controls width=\\\"500\\\" height=\\\"500\\\" src=\\\"{}\\\">animation</video>\n",
    "'''.format(test_video_path)\n",
    "print(html_str)\n",
    "display(HTML(html_str))"
   ]
  },
  {
   "cell_type": "code",
   "execution_count": 17,
   "metadata": {},
   "outputs": [
    {
     "name": "stdout",
     "output_type": "stream",
     "text": [
      "videos_train_5k_A_dir= ./VideoStructuring/dataset/videos/video_5k/train_5k\n",
      "len(videos/train_5k_A)= 5000\n",
      "./VideoStructuring/dataset/videos/video_5k/train_5k/d11d5103fe20bee692785fcd1e3ffa23.mp4\n",
      "True\n",
      "\n",
      "<video controls width=\"500\" height=\"500\" src=\"./VideoStructuring/dataset/videos/video_5k/train_5k/d11d5103fe20bee692785fcd1e3ffa23.mp4\">animation</video>\n",
      "\n"
     ]
    },
    {
     "data": {
      "text/html": [
       "\n",
       "<video controls width=\"500\" height=\"500\" src=\"./VideoStructuring/dataset/videos/video_5k/train_5k/d11d5103fe20bee692785fcd1e3ffa23.mp4\">animation</video>\n"
      ],
      "text/plain": [
       "<IPython.core.display.HTML object>"
      ]
     },
     "metadata": {},
     "output_type": "display_data"
    }
   ],
   "source": [
    "import os\n",
    "\n",
    "dataset_root = './VideoStructuring/dataset/'\n",
    "\n",
    "# ########## get train_5k_A video file lists\n",
    "videos_train_5k_A_dir = os.path.join(dataset_root, 'videos/video_5k/train_5k')\n",
    "videos_train_5k_A_files = [os.path.join(videos_train_5k_A_dir, f) for f in os.listdir(videos_train_5k_A_dir) if os.path.isfile(os.path.join(videos_train_5k_A_dir, f))]\n",
    "\n",
    "print(\"videos_train_5k_A_dir= {}\".format(videos_train_5k_A_dir))\n",
    "print(\"len(videos/train_5k_A)= {}\".format(len(videos_train_5k_A_files)))\n",
    "\n",
    "# ########## display\n",
    "from IPython.display import display, HTML\n",
    "\n",
    "# video\n",
    "test_video_path = videos_train_5k_A_files[3000]\n",
    "print(test_video_path)\n",
    "print(os.path.exists(test_video_path))\n",
    "html_str = '''\n",
    "<video controls width=\\\"500\\\" height=\\\"500\\\" src=\\\"{}\\\">animation</video>\n",
    "'''.format(test_video_path)\n",
    "print(html_str)\n",
    "display(HTML(html_str))"
   ]
  },
  {
   "cell_type": "code",
   "execution_count": 18,
   "metadata": {},
   "outputs": [
    {
     "ename": "FileNotFoundError",
     "evalue": "[Errno 2] No such file or directory: './VideoStructuring/dataset/videos/train_5k_A'",
     "output_type": "error",
     "traceback": [
      "\u001b[0;31m---------------------------------------------------------------------------\u001b[0m",
      "\u001b[0;31mFileNotFoundError\u001b[0m                         Traceback (most recent call last)",
      "\u001b[0;32m<ipython-input-18-8cc93af8093a>\u001b[0m in \u001b[0;36m<module>\u001b[0;34m\u001b[0m\n\u001b[1;32m      5\u001b[0m \u001b[0;31m# ########## get train_5k_A video file lists\u001b[0m\u001b[0;34m\u001b[0m\u001b[0;34m\u001b[0m\u001b[0m\n\u001b[1;32m      6\u001b[0m \u001b[0mvideos_train_5k_A_dir\u001b[0m \u001b[0;34m=\u001b[0m \u001b[0mos\u001b[0m\u001b[0;34m.\u001b[0m\u001b[0mpath\u001b[0m\u001b[0;34m.\u001b[0m\u001b[0mjoin\u001b[0m\u001b[0;34m(\u001b[0m\u001b[0mdataset_root\u001b[0m\u001b[0;34m,\u001b[0m \u001b[0;34m'videos/train_5k_A'\u001b[0m\u001b[0;34m)\u001b[0m\u001b[0;34m\u001b[0m\u001b[0m\n\u001b[0;32m----> 7\u001b[0;31m \u001b[0mvideos_train_5k_A_files\u001b[0m \u001b[0;34m=\u001b[0m \u001b[0;34m[\u001b[0m\u001b[0mos\u001b[0m\u001b[0;34m.\u001b[0m\u001b[0mpath\u001b[0m\u001b[0;34m.\u001b[0m\u001b[0mjoin\u001b[0m\u001b[0;34m(\u001b[0m\u001b[0mvideos_train_5k_A_dir\u001b[0m\u001b[0;34m,\u001b[0m \u001b[0mf\u001b[0m\u001b[0;34m)\u001b[0m \u001b[0;32mfor\u001b[0m \u001b[0mf\u001b[0m \u001b[0;32min\u001b[0m \u001b[0mos\u001b[0m\u001b[0;34m.\u001b[0m\u001b[0mlistdir\u001b[0m\u001b[0;34m(\u001b[0m\u001b[0mvideos_train_5k_A_dir\u001b[0m\u001b[0;34m)\u001b[0m \u001b[0;32mif\u001b[0m \u001b[0mos\u001b[0m\u001b[0;34m.\u001b[0m\u001b[0mpath\u001b[0m\u001b[0;34m.\u001b[0m\u001b[0misfile\u001b[0m\u001b[0;34m(\u001b[0m\u001b[0mos\u001b[0m\u001b[0;34m.\u001b[0m\u001b[0mpath\u001b[0m\u001b[0;34m.\u001b[0m\u001b[0mjoin\u001b[0m\u001b[0;34m(\u001b[0m\u001b[0mvideos_train_5k_A_dir\u001b[0m\u001b[0;34m,\u001b[0m \u001b[0mf\u001b[0m\u001b[0;34m)\u001b[0m\u001b[0;34m)\u001b[0m\u001b[0;34m]\u001b[0m\u001b[0;34m\u001b[0m\u001b[0m\n\u001b[0m\u001b[1;32m      8\u001b[0m \u001b[0;34m\u001b[0m\u001b[0m\n\u001b[1;32m      9\u001b[0m \u001b[0mprint\u001b[0m\u001b[0;34m(\u001b[0m\u001b[0;34m\"videos_train_5k_A_dir= {}\"\u001b[0m\u001b[0;34m.\u001b[0m\u001b[0mformat\u001b[0m\u001b[0;34m(\u001b[0m\u001b[0mvideos_train_5k_A_dir\u001b[0m\u001b[0;34m)\u001b[0m\u001b[0;34m)\u001b[0m\u001b[0;34m\u001b[0m\u001b[0m\n",
      "\u001b[0;31mFileNotFoundError\u001b[0m: [Errno 2] No such file or directory: './VideoStructuring/dataset/videos/train_5k_A'"
     ]
    }
   ],
   "source": [
    "import os\n",
    "\n",
    "dataset_root = './VideoStructuring/dataset/'\n",
    "\n",
    "# ########## get train_5k_A video file lists\n",
    "videos_train_5k_A_dir = os.path.join(dataset_root, 'videos/train_5k_A')\n",
    "videos_train_5k_A_files = [os.path.join(videos_train_5k_A_dir, f) for f in os.listdir(videos_train_5k_A_dir) if os.path.isfile(os.path.join(videos_train_5k_A_dir, f))]\n",
    "\n",
    "print(\"videos_train_5k_A_dir= {}\".format(videos_train_5k_A_dir))\n",
    "print(\"len(videos/train_5k_A)= {}\".format(len(videos_train_5k_A_files)))\n",
    "\n",
    "# ########## display\n",
    "from IPython.display import display, HTML\n",
    "\n",
    "# video\n",
    "test_video_path = videos_train_5k_A_files[30]\n",
    "print(test_video_path)\n",
    "print(os.path.exists(test_video_path))\n",
    "html_str = '''\n",
    "<video controls width=\\\"500\\\" height=\\\"500\\\" src=\\\"{}\\\">animation</video>\n",
    "'''.format(test_video_path)\n",
    "print(html_str)\n",
    "display(HTML(html_str))"
   ]
  },
  {
   "cell_type": "code",
   "execution_count": 19,
   "metadata": {},
   "outputs": [
    {
     "name": "stdout",
     "output_type": "stream",
     "text": [
      "videos_train_5k_A_dir= ./VideoStructuring/dataset/videos/video_5k/train_5k\n",
      "len(videos/train_5k_A)= 5000\n",
      "./VideoStructuring/dataset/videos/video_5k/train_5k/d11d5103fe20bee692785fcd1e3ffa23.mp4\n",
      "True\n",
      "\n",
      "<video controls width=\"500\" height=\"500\" src=\"./VideoStructuring/dataset/videos/video_5k/train_5k/d11d5103fe20bee692785fcd1e3ffa23.mp4\">animation</video>\n",
      "\n"
     ]
    },
    {
     "data": {
      "text/html": [
       "\n",
       "<video controls width=\"500\" height=\"500\" src=\"./VideoStructuring/dataset/videos/video_5k/train_5k/d11d5103fe20bee692785fcd1e3ffa23.mp4\">animation</video>\n"
      ],
      "text/plain": [
       "<IPython.core.display.HTML object>"
      ]
     },
     "metadata": {},
     "output_type": "display_data"
    }
   ],
   "source": [
    "import os\n",
    "\n",
    "dataset_root = './VideoStructuring/dataset/'\n",
    "\n",
    "# ########## get train_5k_A video file lists\n",
    "videos_train_5k_A_dir = os.path.join(dataset_root, 'videos/video_5k/train_5k')\n",
    "videos_train_5k_A_files = [os.path.join(videos_train_5k_A_dir, f) for f in os.listdir(videos_train_5k_A_dir) if os.path.isfile(os.path.join(videos_train_5k_A_dir, f))]\n",
    "\n",
    "print(\"videos_train_5k_A_dir= {}\".format(videos_train_5k_A_dir))\n",
    "print(\"len(videos/train_5k_A)= {}\".format(len(videos_train_5k_A_files)))\n",
    "\n",
    "# ########## display\n",
    "from IPython.display import display, HTML\n",
    "\n",
    "# video\n",
    "test_video_path = videos_train_5k_A_files[3000]\n",
    "print(test_video_path)\n",
    "print(os.path.exists(test_video_path))\n",
    "html_str = '''\n",
    "<video controls width=\\\"500\\\" height=\\\"500\\\" src=\\\"{}\\\">animation</video>\n",
    "'''.format(test_video_path)\n",
    "print(html_str)\n",
    "display(HTML(html_str))"
   ]
  },
  {
   "cell_type": "code",
   "execution_count": null,
   "metadata": {},
   "outputs": [],
   "source": []
  }
 ],
 "metadata": {
  "kernelspec": {
   "display_name": "conda_tensorflow_py3",
   "language": "python",
   "name": "conda_tensorflow_py3"
  },
  "language_info": {
   "codemirror_mode": {
    "name": "ipython",
    "version": 3
   },
   "file_extension": ".py",
   "mimetype": "text/x-python",
   "name": "python",
   "nbconvert_exporter": "python",
   "pygments_lexer": "ipython3",
   "version": "3.6.5"
  }
 },
 "nbformat": 4,
 "nbformat_minor": 4
}
